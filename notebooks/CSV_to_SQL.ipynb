{
 "cells": [
  {
   "cell_type": "code",
   "execution_count": 59,
   "metadata": {},
   "outputs": [
    {
     "data": {
      "text/plain": [
       "(435, 22)"
      ]
     },
     "execution_count": 59,
     "metadata": {},
     "output_type": "execute_result"
    }
   ],
   "source": [
    "import pandas as pd\n",
    "df = pd.read_csv('scores.csv')\n",
    "import sqlite3\n",
    "from sqlite3 import Error\n",
    "rowCols = ['Percent Black', 'Percent White', 'Percent Asian', 'Percent Hispanic']\n",
    "neededCols = [rowCols[:1][0], 'Average Score (SAT Math)']\n",
    "sat_data = []\n",
    "df.shape"
   ]
  },
  {
   "cell_type": "code",
   "execution_count": 60,
   "metadata": {},
   "outputs": [
    {
     "data": {
      "text/plain": [
       "(375, 22)"
      ]
     },
     "execution_count": 60,
     "metadata": {},
     "output_type": "execute_result"
    }
   ],
   "source": [
    "for col in neededCols:\n",
    "    df = df[pd.notnull(df[col])]\n",
    "df.shape"
   ]
  },
  {
   "cell_type": "code",
   "execution_count": 61,
   "metadata": {},
   "outputs": [],
   "source": [
    "def extractValues(row):\n",
    "    other = 100\n",
    "    rowData = {}\n",
    "    for col in rowCols:\n",
    "            rowData[col] = float(row[col].strip('%'))\n",
    "            other -= float(row[col].strip('%'))\n",
    "    rowData['name'] = row['School Name']\n",
    "    rowData['math_score'] = row['Average Score (SAT Math)']\n",
    "    rowData['reading_score'] = row['Average Score (SAT Reading)']     \n",
    "    rowData['writing_score'] = row['Average Score (SAT Writing)']\n",
    "    if other < 0:\n",
    "        other = 0\n",
    "    sat_data.append((row['School Name'], rowData['Percent Black'], rowData['Percent Asian'], rowData['Percent White'], rowData['Percent Hispanic'], other, rowData['math_score'], rowData['reading_score'], rowData['writing_score']))\n",
    "                \n",
    "for index, (_, row) in enumerate(df.iterrows()):\n",
    "    extractValues(row)\n",
    "                        "
   ]
  },
  {
   "cell_type": "code",
   "execution_count": 62,
   "metadata": {},
   "outputs": [
    {
     "name": "stdout",
     "output_type": "stream",
     "text": [
      "2.6.0\n"
     ]
    }
   ],
   "source": [
    "def create_connection(db_file):\n",
    "    try:\n",
    "        conn = sqlite3.connect(db_file)\n",
    "        for school in sat_data:\n",
    "            add_school(conn, school)\n",
    "        print(sqlite3.version)\n",
    "    except Error as e:\n",
    "        print(e)\n",
    "    finally:\n",
    "        conn.commit()\n",
    "        conn.close()\n",
    "        \n",
    "def add_school(conn, school):\n",
    "    sql = \"\"\" \n",
    "    INSERT INTO schools(name,percent_black,percent_asian,percent_white,percent_hispanic,percent_other,math_score,reading_score,writing_score)\n",
    "    VALUES(?, ?, ?, ?, ?, ?, ?, ?, ?)\n",
    "    \"\"\"\n",
    "    curr = conn.cursor()\n",
    "    curr.execute(sql, school)\n",
    "    return curr.lastrowid\n",
    "\n",
    "create_connection('pythonsqlite.db')"
   ]
  },
  {
   "cell_type": "code",
   "execution_count": null,
   "metadata": {},
   "outputs": [],
   "source": []
  },
  {
   "cell_type": "code",
   "execution_count": null,
   "metadata": {},
   "outputs": [],
   "source": []
  },
  {
   "cell_type": "code",
   "execution_count": null,
   "metadata": {},
   "outputs": [],
   "source": []
  }
 ],
 "metadata": {
  "kernelspec": {
   "display_name": "Python 3",
   "language": "python",
   "name": "python3"
  },
  "language_info": {
   "codemirror_mode": {
    "name": "ipython",
    "version": 3
   },
   "file_extension": ".py",
   "mimetype": "text/x-python",
   "name": "python",
   "nbconvert_exporter": "python",
   "pygments_lexer": "ipython3",
   "version": "3.7.3"
  }
 },
 "nbformat": 4,
 "nbformat_minor": 2
}
