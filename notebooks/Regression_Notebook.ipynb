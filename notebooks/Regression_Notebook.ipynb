{
 "cells": [
  {
   "cell_type": "code",
   "execution_count": 1,
   "metadata": {},
   "outputs": [],
   "source": [
    "import pandas as pd\n",
    "import pdb\n",
    "import random\n",
    "import matplotlib.pyplot as plt\n",
    "from sklearn import datasets, linear_model, model_selection\n",
    "from sklearn.metrics import mean_squared_error, r2_score\n",
    "from numpy.random import multinomial\n",
    "from sklearn.ensemble import GradientBoostingRegressor\n",
    "import pickle"
   ]
  },
  {
   "cell_type": "markdown",
   "metadata": {},
   "source": [
    "# Setup"
   ]
  },
  {
   "cell_type": "code",
   "execution_count": 2,
   "metadata": {},
   "outputs": [],
   "source": [
    "rowCols = ['Percent Black', 'Percent White', 'Percent Asian', 'Percent Hispanic']\n",
    "rankCols = [col + ' Ranking' for col in rowCols] \n",
    "neededCols = [rowCols[:1][0], 'Average Score (SAT Math)']\n",
    "zip_to_boro = pd.read_csv('zip_borough.csv')\n",
    "boros = ['Manhattan', 'Staten', 'Bronx', 'Queens', 'Brooklyn']\n",
    "subjects = ['Math', 'Reading', 'Writing']\n",
    "percent_spent_df = pd.read_csv('school_spend.csv')\n",
    "training_cols = rowCols + ['Percent Other'] + boros + ['Spent Per Student', \"Student enrollment\"] + subjects\n",
    "new_cols = rowCols + ['Percent Other'] + boros + ['Spent Per Student', \"Student enrollment\"]"
   ]
  },
  {
   "cell_type": "code",
   "execution_count": 3,
   "metadata": {},
   "outputs": [],
   "source": [
    "df = pd.read_csv('scores.csv')\n",
    "percent_spent_df['Spent Per Student'] = pd.to_numeric(percent_spent_df['Spent Per Student'].str.replace('[^a-zA-Z0-9]', ''))"
   ]
  },
  {
   "cell_type": "code",
   "execution_count": 4,
   "metadata": {},
   "outputs": [],
   "source": [
    "df = pd.merge(df, percent_spent_df, how='inner', on='School Name')"
   ]
  },
  {
   "cell_type": "markdown",
   "metadata": {},
   "source": [
    "# Data Cleaning"
   ]
  },
  {
   "cell_type": "code",
   "execution_count": 5,
   "metadata": {},
   "outputs": [],
   "source": [
    "zip_to_boro.borough.unique()\n",
    "boro_to_int = dict(zip(zip_to_boro.borough.unique(), [1,2,3,4,5]))\n",
    "zip_to_boro['boro_id'] = zip_to_boro.borough.apply(lambda x: boro_to_int[x])\n",
    "zip_to_boro = zip_to_boro.set_index('zip')"
   ]
  },
  {
   "cell_type": "code",
   "execution_count": 6,
   "metadata": {},
   "outputs": [],
   "source": [
    "df['boro_id'] = df['Zip Code'].apply(lambda x: zip_to_boro.loc[x]['borough'])"
   ]
  },
  {
   "cell_type": "code",
   "execution_count": 7,
   "metadata": {},
   "outputs": [
    {
     "data": {
      "text/plain": [
       "(271, 28)"
      ]
     },
     "execution_count": 7,
     "metadata": {},
     "output_type": "execute_result"
    }
   ],
   "source": [
    "for col in neededCols:\n",
    "    df = df[pd.notnull(df[col])]\n",
    "df.shape"
   ]
  },
  {
   "cell_type": "code",
   "execution_count": 8,
   "metadata": {},
   "outputs": [],
   "source": [
    "df = df.join(pd.get_dummies(df['boro_id']))"
   ]
  },
  {
   "cell_type": "code",
   "execution_count": 9,
   "metadata": {},
   "outputs": [],
   "source": [
    "for col in rowCols:\n",
    "    df[col] = pd.to_numeric(df[col].map(lambda pcnt: pcnt.strip('%')))"
   ]
  },
  {
   "cell_type": "code",
   "execution_count": 10,
   "metadata": {},
   "outputs": [],
   "source": [
    "def getOther(row):\n",
    "    return 100 - row[rowCols].sum()\n",
    "df['Percent Other'] = df[rowCols].apply(getOther, axis=1)"
   ]
  },
  {
   "cell_type": "code",
   "execution_count": 11,
   "metadata": {},
   "outputs": [
    {
     "data": {
      "text/html": [
       "<div>\n",
       "<style scoped>\n",
       "    .dataframe tbody tr th:only-of-type {\n",
       "        vertical-align: middle;\n",
       "    }\n",
       "\n",
       "    .dataframe tbody tr th {\n",
       "        vertical-align: top;\n",
       "    }\n",
       "\n",
       "    .dataframe thead th {\n",
       "        text-align: right;\n",
       "    }\n",
       "</style>\n",
       "<table border=\"1\" class=\"dataframe\">\n",
       "  <thead>\n",
       "    <tr style=\"text-align: right;\">\n",
       "      <th></th>\n",
       "      <th>Percent Black</th>\n",
       "      <th>Percent White</th>\n",
       "      <th>Percent Asian</th>\n",
       "      <th>Percent Hispanic</th>\n",
       "      <th>Percent Other</th>\n",
       "      <th>Manhattan</th>\n",
       "      <th>Staten</th>\n",
       "      <th>Bronx</th>\n",
       "      <th>Queens</th>\n",
       "      <th>Brooklyn</th>\n",
       "      <th>Spent Per Student</th>\n",
       "      <th>Student enrollment</th>\n",
       "      <th>SAT SCORE</th>\n",
       "      <th>Math</th>\n",
       "      <th>Reading</th>\n",
       "      <th>Writing</th>\n",
       "    </tr>\n",
       "  </thead>\n",
       "  <tbody>\n",
       "    <tr>\n",
       "      <th>0</th>\n",
       "      <td>13.3</td>\n",
       "      <td>28.6</td>\n",
       "      <td>38.5</td>\n",
       "      <td>18</td>\n",
       "      <td>1.6</td>\n",
       "      <td>1</td>\n",
       "      <td>0</td>\n",
       "      <td>0</td>\n",
       "      <td>0</td>\n",
       "      <td>0</td>\n",
       "      <td>16571</td>\n",
       "      <td>1717</td>\n",
       "      <td>657</td>\n",
       "      <td>1</td>\n",
       "      <td>0</td>\n",
       "      <td>0</td>\n",
       "    </tr>\n",
       "    <tr>\n",
       "      <th>1</th>\n",
       "      <td>13.3</td>\n",
       "      <td>28.6</td>\n",
       "      <td>38.5</td>\n",
       "      <td>18</td>\n",
       "      <td>1.6</td>\n",
       "      <td>1</td>\n",
       "      <td>0</td>\n",
       "      <td>0</td>\n",
       "      <td>0</td>\n",
       "      <td>0</td>\n",
       "      <td>16571</td>\n",
       "      <td>1717</td>\n",
       "      <td>601</td>\n",
       "      <td>0</td>\n",
       "      <td>1</td>\n",
       "      <td>0</td>\n",
       "    </tr>\n",
       "    <tr>\n",
       "      <th>2</th>\n",
       "      <td>13.3</td>\n",
       "      <td>28.6</td>\n",
       "      <td>38.5</td>\n",
       "      <td>18</td>\n",
       "      <td>1.6</td>\n",
       "      <td>1</td>\n",
       "      <td>0</td>\n",
       "      <td>0</td>\n",
       "      <td>0</td>\n",
       "      <td>0</td>\n",
       "      <td>16571</td>\n",
       "      <td>1717</td>\n",
       "      <td>601</td>\n",
       "      <td>0</td>\n",
       "      <td>0</td>\n",
       "      <td>1</td>\n",
       "    </tr>\n",
       "    <tr>\n",
       "      <th>6</th>\n",
       "      <td>38.5</td>\n",
       "      <td>11.7</td>\n",
       "      <td>5.9</td>\n",
       "      <td>41.3</td>\n",
       "      <td>2.6</td>\n",
       "      <td>1</td>\n",
       "      <td>0</td>\n",
       "      <td>0</td>\n",
       "      <td>0</td>\n",
       "      <td>0</td>\n",
       "      <td>22838</td>\n",
       "      <td>327</td>\n",
       "      <td>395</td>\n",
       "      <td>1</td>\n",
       "      <td>0</td>\n",
       "      <td>0</td>\n",
       "    </tr>\n",
       "    <tr>\n",
       "      <th>7</th>\n",
       "      <td>38.5</td>\n",
       "      <td>11.7</td>\n",
       "      <td>5.9</td>\n",
       "      <td>41.3</td>\n",
       "      <td>2.6</td>\n",
       "      <td>1</td>\n",
       "      <td>0</td>\n",
       "      <td>0</td>\n",
       "      <td>0</td>\n",
       "      <td>0</td>\n",
       "      <td>22838</td>\n",
       "      <td>327</td>\n",
       "      <td>411</td>\n",
       "      <td>0</td>\n",
       "      <td>1</td>\n",
       "      <td>0</td>\n",
       "    </tr>\n",
       "  </tbody>\n",
       "</table>\n",
       "</div>"
      ],
      "text/plain": [
       "  Percent Black Percent White Percent Asian Percent Hispanic Percent Other  \\\n",
       "0          13.3          28.6          38.5               18           1.6   \n",
       "1          13.3          28.6          38.5               18           1.6   \n",
       "2          13.3          28.6          38.5               18           1.6   \n",
       "6          38.5          11.7           5.9             41.3           2.6   \n",
       "7          38.5          11.7           5.9             41.3           2.6   \n",
       "\n",
       "  Manhattan Staten Bronx Queens Brooklyn Spent Per Student Student enrollment  \\\n",
       "0         1      0     0      0        0             16571               1717   \n",
       "1         1      0     0      0        0             16571               1717   \n",
       "2         1      0     0      0        0             16571               1717   \n",
       "6         1      0     0      0        0             22838                327   \n",
       "7         1      0     0      0        0             22838                327   \n",
       "\n",
       "  SAT SCORE  Math  Reading  Writing  \n",
       "0       657     1        0        0  \n",
       "1       601     0        1        0  \n",
       "2       601     0        0        1  \n",
       "6       395     1        0        0  \n",
       "7       411     0        1        0  "
      ]
     },
     "execution_count": 11,
     "metadata": {},
     "output_type": "execute_result"
    }
   ],
   "source": [
    "new_rows = []\n",
    "def extract_sat(row):\n",
    "    for subject in ['Math', 'Reading', 'Writing']:\n",
    "        new_row = row[new_cols].copy()\n",
    "        new_row['SAT SCORE'] = row[f'Average Score (SAT {subject})']\n",
    "        new_row['SAT TYPE'] = subject\n",
    "        new_rows.append(new_row)\n",
    "    return row\n",
    "    \n",
    "def extract_features(df):\n",
    "    new_cols = pd.get_dummies(df['SAT TYPE'])\n",
    "    df.drop(columns=['SAT TYPE'], inplace=True)\n",
    "    df = df.join(new_cols)\n",
    "    return df\n",
    "\n",
    "def set_sat(df):\n",
    "    df.apply(extract_sat, axis=1)\n",
    "    new_df = pd.concat(new_rows, axis=1).transpose().reset_index(drop=True).drop_duplicates()\n",
    "    return extract_features(new_df).drop_duplicates()\n",
    "\n",
    "new_df = set_sat(df)\n",
    "new_df.head()"
   ]
  },
  {
   "cell_type": "markdown",
   "metadata": {},
   "source": [
    "# Data Exploration"
   ]
  },
  {
   "cell_type": "markdown",
   "metadata": {},
   "source": [
    "## Correlations"
   ]
  },
  {
   "cell_type": "code",
   "execution_count": 12,
   "metadata": {},
   "outputs": [
    {
     "data": {
      "text/plain": [
       "<matplotlib.axes._subplots.AxesSubplot at 0x16944445be0>"
      ]
     },
     "execution_count": 12,
     "metadata": {},
     "output_type": "execute_result"
    },
    {
     "data": {
      "image/png": "[encoded data removed]",
      "text/plain": [
       "<Figure size 432x288 with 1 Axes>"
      ]
     },
     "metadata": {
      "needs_background": "light"
     },
     "output_type": "display_data"
    }
   ],
   "source": [
    "# new_df[\"SAT SCORE\"]\n",
    "for col in new_df.columns:\n",
    "    new_df[col] = new_df[col].astype(\"float\")\n",
    "new_df.corr()[\"SAT SCORE\"].sort_values().drop(labels=['SAT SCORE']).plot(kind=\"bar\")"
   ]
  },
  {
   "cell_type": "code",
   "execution_count": 13,
   "metadata": {},
   "outputs": [
    {
     "data": {
      "text/plain": [
       "<matplotlib.collections.PathCollection at 0x16944333cf8>"
      ]
     },
     "execution_count": 13,
     "metadata": {},
     "output_type": "execute_result"
    },
    {
     "data": {
      "image/png": "[encoded data removed]",
      "text/plain": [
       "<Figure size 432x288 with 1 Axes>"
      ]
     },
     "metadata": {
      "needs_background": "light"
     },
     "output_type": "display_data"
    }
   ],
   "source": [
    "plt.scatter(df['Percent Asian'], df['Average Score (SAT Math)'])"
   ]
  },
  {
   "cell_type": "code",
   "execution_count": 14,
   "metadata": {
    "scrolled": true
   },
   "outputs": [
    {
     "data": {
      "text/plain": [
       "<matplotlib.collections.PathCollection at 0x1694438bc18>"
      ]
     },
     "execution_count": 14,
     "metadata": {},
     "output_type": "execute_result"
    },
    {
     "data": {
      "image/png": "[encoded data removed]",
      "text/plain": [
       "<Figure size 432x288 with 1 Axes>"
      ]
     },
     "metadata": {
      "needs_background": "light"
     },
     "output_type": "display_data"
    }
   ],
   "source": [
    "plt.scatter(df['Percent White'], df['Average Score (SAT Math)'])"
   ]
  },
  {
   "cell_type": "code",
   "execution_count": 15,
   "metadata": {},
   "outputs": [
    {
     "data": {
      "text/plain": [
       "<matplotlib.collections.PathCollection at 0x1694449ad30>"
      ]
     },
     "execution_count": 15,
     "metadata": {},
     "output_type": "execute_result"
    },
    {
     "data": {
      "image/png": "[encoded data removed]",
      "text/plain": [
       "<Figure size 432x288 with 1 Axes>"
      ]
     },
     "metadata": {
      "needs_background": "light"
     },
     "output_type": "display_data"
    }
   ],
   "source": [
    "plt.scatter(df['Percent Hispanic'], df['Average Score (SAT Math)'])"
   ]
  },
  {
   "cell_type": "code",
   "execution_count": 16,
   "metadata": {},
   "outputs": [
    {
     "data": {
      "text/plain": [
       "<matplotlib.collections.PathCollection at 0x169444f3588>"
      ]
     },
     "execution_count": 16,
     "metadata": {},
     "output_type": "execute_result"
    },
    {
     "data": {
      "image/png": "[encoded data removed]",
      "text/plain": [
       "<Figure size 432x288 with 1 Axes>"
      ]
     },
     "metadata": {
      "needs_background": "light"
     },
     "output_type": "display_data"
    }
   ],
   "source": [
    "plt.scatter(df['Percent Black'], df['Average Score (SAT Math)'])"
   ]
  },
  {
   "cell_type": "markdown",
   "metadata": {},
   "source": [
    "# Training, Predicting, & Validating Model"
   ]
  },
  {
   "cell_type": "code",
   "execution_count": 33,
   "metadata": {},
   "outputs": [],
   "source": [
    "x_train, x_test, y_train, y_test = model_selection.train_test_split(new_df[training_cols], new_df['SAT SCORE'])"
   ]
  },
  {
   "cell_type": "code",
   "execution_count": 34,
   "metadata": {},
   "outputs": [
    {
     "data": {
      "image/png": "[encoded data removed]",
      "text/plain": [
       "<Figure size 432x288 with 1 Axes>"
      ]
     },
     "metadata": {
      "needs_background": "light"
     },
     "output_type": "display_data"
    }
   ],
   "source": [
    "model = GradientBoostingRegressor(n_estimators=200, max_depth=6, loss='lad')\n",
    "\n",
    "# train the model using the training sets\n",
    "model.fit(x_train, y_train)\n",
    "\n",
    "# make predicitons using the testing set\n",
    "y_predictions = model.predict(x_test)\n",
    "\n",
    "plt.xticks()\n",
    "plt.yticks()\n",
    "plt.scatter(y_test, y_predictions, color=\"blue\")\n",
    "plt.plot(y_test, y_test, color=\"red\")\n",
    "\n",
    "plt.show()"
   ]
  },
  {
   "cell_type": "code",
   "execution_count": 35,
   "metadata": {},
   "outputs": [
    {
     "name": "stdout",
     "output_type": "stream",
     "text": [
      "Mean squared error: 436.31\n",
      "Variance score: 0.92\n",
      "R^2 score: 0.92\n"
     ]
    }
   ],
   "source": [
    "# The mean squared error\n",
    "print(\"Mean squared error: %.2f\"\n",
    "     % mean_squared_error(y_test, y_predictions))\n",
    "\n",
    "# Explained variance score: 1 is the perfect prediction\n",
    "print('Variance score: %.2f' % r2_score(y_test, y_predictions))\n",
    "\n",
    "# Explained r2 score: 1 is the best possible fit\n",
    "print('R^2 score: %.2f' % r2_score(y_test, y_predictions))\n"
   ]
  },
  {
   "cell_type": "code",
   "execution_count": 37,
   "metadata": {},
   "outputs": [],
   "source": [
    "pickle.dump(model, open('../primary_sat_model.sav', 'wb'))"
   ]
  }
 ],
 "metadata": {
  "kernelspec": {
   "display_name": "Python 3",
   "language": "python",
   "name": "python3"
  },
  "language_info": {
   "codemirror_mode": {
    "name": "ipython",
    "version": 3
   },
   "file_extension": ".py",
   "mimetype": "text/x-python",
   "name": "python",
   "nbconvert_exporter": "python",
   "pygments_lexer": "ipython3",
   "version": "3.7.3"
  }
 },
 "nbformat": 4,
 "nbformat_minor": 2
}
